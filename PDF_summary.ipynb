{
 "cells": [
  {
   "cell_type": "markdown",
   "metadata": {},
   "source": [
    "Based on https://python.langchain.com/docs/use_cases/summarization/summarize.html"
   ]
  },
  {
   "cell_type": "code",
   "execution_count": 42,
   "metadata": {},
   "outputs": [],
   "source": [
    "import credentials\n",
    "import langchain.llms as llms\n",
    "from langchain.document_loaders import PyPDFLoader\n",
    "from langchain.embeddings import OpenAIEmbeddings\n",
    "from langchain.chains.summarize import load_summarize_chain\n",
    "from langchain.document_loaders import PyPDFLoader\n",
    "import pandas as pd\n",
    "import os\n",
    "import textwrap"
   ]
  },
  {
   "cell_type": "code",
   "execution_count": 50,
   "metadata": {},
   "outputs": [],
   "source": [
    "llm = llms.OpenAI(temperature=0, openai_api_key = credentials.api_key)\n",
    "chain = load_summarize_chain(llm, chain_type=\"map_reduce\")"
   ]
  },
  {
   "cell_type": "code",
   "execution_count": 51,
   "metadata": {},
   "outputs": [],
   "source": [
    "def summarize_pdf(chain, path):\n",
    "    loader = PyPDFLoader(path)\n",
    "    pages = loader.load_and_split()\n",
    "    return chain.run(pages)"
   ]
  },
  {
   "cell_type": "code",
   "execution_count": 52,
   "metadata": {},
   "outputs": [
    {
     "data": {
      "text/plain": [
       "' This paper examines the implementation of the L2M Inclusive Innovation Ecosystem Prize Competition, a federal prize competition designed to increase engagement with private sector technology development experts and investors. It provides nine steps for prize administrators to consider when developing their own prize competition, as well as exemplar practices and considerations to take into account. The competition involved a variety of tasks such as submitting entries, evaluating entries, and awarding prizes. The paper also acknowledges the contributions of the L2M Prize Planning Group, L2M Steering Committee, and L2M Subcommittee Co-Chairs.'"
      ]
     },
     "execution_count": 52,
     "metadata": {},
     "output_type": "execute_result"
    }
   ],
   "source": [
    "summarize_pdf(chain, \"pdfs/D-22680.pdf\")"
   ]
  },
  {
   "cell_type": "code",
   "execution_count": 53,
   "metadata": {},
   "outputs": [],
   "source": [
    "# get list of files in pdfs directory\n",
    "files = os.listdir('pdfs')\n",
    "files = ['pdfs/' + file for file in files]"
   ]
  },
  {
   "cell_type": "code",
   "execution_count": 34,
   "metadata": {},
   "outputs": [],
   "source": [
    "summaries = [summarize_pdf(chain, file) for file in files]"
   ]
  },
  {
   "cell_type": "markdown",
   "metadata": {},
   "source": [
    "Note that as of 7/27/2023, it is not possible to use the newer models because openai removed support for v1/completions. "
   ]
  },
  {
   "cell_type": "code",
   "execution_count": 35,
   "metadata": {},
   "outputs": [
    {
     "data": {
      "text/plain": [
       "'text-davinci-003'"
      ]
     },
     "execution_count": 35,
     "metadata": {},
     "output_type": "execute_result"
    }
   ],
   "source": [
    "llm.model_name"
   ]
  },
  {
   "cell_type": "code",
   "execution_count": 36,
   "metadata": {},
   "outputs": [
    {
     "data": {
      "text/plain": [
       "' This article discusses the need for innovation in the Federal Government and outlines approaches to increase awareness, adoption, and adaptation of innovative approaches. It provides examples of how Federal employees have deployed innovative approaches, such as the HHS Innovation Council, the HHS Innovates Awards, and the HRSA Holistic Incentive System for Innovation. It also provides resources and reports related to government innovation and implementation strategies, including toolkits, multimedia, and podcasts. It emphasizes the need for a supportive environment that incentivizes and rewards innovative thinking and experimentation, and suggests policy guidance, centers of excellence, and senior-level forums on innovation to foster a culture of innovation.'"
      ]
     },
     "execution_count": 36,
     "metadata": {},
     "output_type": "execute_result"
    }
   ],
   "source": [
    "summaries[0]"
   ]
  },
  {
   "cell_type": "code",
   "execution_count": 46,
   "metadata": {},
   "outputs": [],
   "source": [
    "# Output this all to a file:\n",
    "with open(\"summaries.txt\",\"wt\") as f:\n",
    "    for (i,file) in enumerate(files):\n",
    "        f.write(file[5:]+\":\\n\")\n",
    "        f.write(textwrap.fill(summaries[i]) + \"\\n\\n\")"
   ]
  },
  {
   "cell_type": "code",
   "execution_count": null,
   "metadata": {},
   "outputs": [],
   "source": []
  }
 ],
 "metadata": {
  "kernelspec": {
   "display_name": "openai",
   "language": "python",
   "name": "python3"
  },
  "language_info": {
   "codemirror_mode": {
    "name": "ipython",
    "version": 3
   },
   "file_extension": ".py",
   "mimetype": "text/x-python",
   "name": "python",
   "nbconvert_exporter": "python",
   "pygments_lexer": "ipython3",
   "version": "3.11.4"
  },
  "orig_nbformat": 4
 },
 "nbformat": 4,
 "nbformat_minor": 2
}
